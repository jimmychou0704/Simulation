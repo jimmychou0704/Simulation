{
 "cells": [
  {
   "cell_type": "code",
   "execution_count": 89,
   "metadata": {
    "collapsed": false
   },
   "outputs": [],
   "source": [
    "import numpy as np\n",
    "from scipy import stats\n",
    "\n",
    "class BSM(object):\n",
    "    \n",
    "    def __init__(self, S0, K, T, r, sigma):\n",
    "        self.S0 = float(S0)           #stock price today\n",
    "        self.K = K             #strike \n",
    "        self.T = T             #maturnity day, in years \n",
    "        self.r = r             #interest rate \n",
    "        self.sigma = sigma     #standard deviation\n",
    "    \n",
    "    def d1(self):\n",
    "        return (np.log(self.S0/self.K)+(self.r+(self.sigma**2)/2)*(self.T))\\\n",
    "                /(self.sigma*np.sqrt(self.T))\n",
    "    def d2(self):\n",
    "        return (np.log(self.S0/self.K)+(self.r-(self.sigma**2)/2)*(self.T))\\\n",
    "                /(self.sigma*np.sqrt(self.T))\n",
    "    \n",
    "    def call_price(self):\n",
    "        return self.S0*stats.norm.cdf(self.d1(),0,1) -\\\n",
    "               np.exp(-self.r*self.T)*self.K*stats.norm.cdf(self.d2(), 0,1)\n",
    "        \n",
    "    def vega(self):\n",
    "        return self.S0*stats.norm.pdf(self.d1())*np.sqrt(self.T)"
   ]
  },
  {
   "cell_type": "code",
   "execution_count": 91,
   "metadata": {
    "collapsed": false
   },
   "outputs": [
    {
     "name": "stdout",
     "output_type": "stream",
     "text": [
      "6.20112476622\n"
     ]
    }
   ],
   "source": [
    "T = 1\n",
    "r = 0.01\n",
    "sigma = 0.02\n",
    "a = BSM(100, 105, T, r, sigma)\n",
    "print a.vega()"
   ]
  },
  {
   "cell_type": "code",
   "execution_count": 71,
   "metadata": {
    "collapsed": false
   },
   "outputs": [
    {
     "data": {
      "text/plain": [
       "-2.3886606352846216"
      ]
     },
     "execution_count": 71,
     "metadata": {},
     "output_type": "execute_result"
    }
   ],
   "source": [
    "(np.log(100.0/105)+(0.01/365+0.5*0.02**2)*np.sqrt(20))/0.02"
   ]
  },
  {
   "cell_type": "code",
   "execution_count": 76,
   "metadata": {
    "collapsed": false
   },
   "outputs": [
    {
     "data": {
      "text/plain": [
       "-0.49464304539414178"
      ]
     },
     "execution_count": 76,
     "metadata": {},
     "output_type": "execute_result"
    }
   ],
   "source": [
    "(np.log(100.0/105)+(0.01/365 + 0.5*0.02**2)*20)/(0.02*np.sqrt(20))"
   ]
  }
 ],
 "metadata": {
  "kernelspec": {
   "display_name": "Python 2",
   "language": "python",
   "name": "python2"
  },
  "language_info": {
   "codemirror_mode": {
    "name": "ipython",
    "version": 2
   },
   "file_extension": ".py",
   "mimetype": "text/x-python",
   "name": "python",
   "nbconvert_exporter": "python",
   "pygments_lexer": "ipython2",
   "version": "2.7.11"
  }
 },
 "nbformat": 4,
 "nbformat_minor": 1
}
