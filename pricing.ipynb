{
 "cells": [
  {
   "cell_type": "markdown",
   "metadata": {},
   "source": [
    "We first define a class random containing stochastic processes\n",
    "* Geometric Brownian motion\n",
    "* Jump diffusion"
   ]
  },
  {
   "cell_type": "code",
   "execution_count": 22,
   "metadata": {
    "collapsed": false
   },
   "outputs": [],
   "source": [
    "import numpy as np\n",
    "import numpy.random as npr\n",
    "import matplotlib.pyplot as plt\n",
    "%matplotlib inline\n",
    "\n",
    "class random(object):\n",
    "    '''\n",
    "    S0   : stock price today\n",
    "    r    : risk free interest rate\n",
    "    sigma: variance of the stock\n",
    " \n",
    "    M    : numer of Euler steps\n",
    "    \n",
    "    ''' \n",
    "    def __init__(self, S0, r, sigma, T, M, num_iter):\n",
    "        self.S0 = S0\n",
    "        self.r = r\n",
    "        self.sigma = sigma\n",
    "        self.T = T\n",
    "        self.M = M\n",
    "        self.num_iter = num_iter\n",
    "        self.dt = float(T)/M\n",
    "    \n",
    "    def GBM(self):\n",
    "        #matrix of stock price, M rows, num_of_iter cols\n",
    "        S = np.zeros((self.M+1, self.num_iter))\n",
    "        S[0] = self.S0\n",
    "        for t in range(1, M+1):\n",
    "            S[t] = S[t-1] +self.r*S[t-1]*self.dt \\\n",
    "                  + self.sigma*np.sqrt(self.dt)*npr.standard_normal(self.num_iter)\n",
    "        return S\n",
    "    \n",
    "    \n",
    "    #return a matrix of stock price: (M+1)x num_iter \n",
    "    def jump(self, a, b, lambda_):\n",
    "        '''\n",
    "        Assume the jump follows log normal (a, b^2)\n",
    "        ''' \n",
    "\n",
    "\n",
    "        #compute jump return r_J, to make discounted S martingale\n",
    "        r_J = lambda_*(np.exp(a + b**2/2)-1)\n",
    "    \n",
    "    \n",
    "        S = np.zeros((self.M+1, self.num_iter))\n",
    "        S[0] = self.S0\n",
    "        for i in range(1, self.M+1):\n",
    "            S[i] = S[i-1]*np.exp((self.r-r_J-sigma**2/2)*self.dt+ \\\n",
    "                self.sigma* np.sqrt(self.dt)*npr.standard_normal(self.num_iter))+\\\n",
    "                S[i-1]*(np.exp(a+ b*npr.standard_normal(self.num_iter))-1)*\\\n",
    "                npr.poisson(lambda_*self.dt, self.num_iter)\n",
    "\n",
    "        return S "
   ]
  },
  {
   "cell_type": "code",
   "execution_count": 78,
   "metadata": {
    "collapsed": false
   },
   "outputs": [],
   "source": [
    "class option(object):\n",
    "    def __init__(self, S0, r, sigma, T, M,K, num_iter):\n",
    "        self.S0 = S0\n",
    "        self.r = r\n",
    "        self.sigma = sigma\n",
    "        self.T = T\n",
    "        self.M = M\n",
    "        self.num_iter = num_iter\n",
    "        self.K = K\n",
    "        self.dt = float(T)/M\n",
    "        \n",
    "    def pay_off(self, ST, option_type = 'call'):\n",
    "        if (option_type == 'put'): return np.maximum(K-ST, 0)\n",
    "        else: return np.maximum(ST-K, 0)\n",
    "        \n",
    "            \n",
    "class european_jump(option):\n",
    "    def __init__(self, S0, r, sigma, T, M, K, num_iter,a, b, lambda_):\n",
    "        option.__init__(self,S0, r, sigma, T, M, K, num_iter)\n",
    "        self.a = a\n",
    "        self.b = b\n",
    "        self.lambda_ = lambda_\n",
    "        \n",
    "        #comput stock price\n",
    "        self.S = random(self.S0, self.r, self.sigma,\\\n",
    "                self.T, self.M, self.num_iter).jump(self.a,\\\n",
    "                        self.b, self.lambda_)\n",
    "    def ST(self):\n",
    "        return self.S[-1]\n",
    "    \n",
    "    def foo(self):\n",
    "        \n",
    "        return self.pay_off(self.ST())\n",
    "        #return self.pay_off(self.S[-1])"
   ]
  },
  {
   "cell_type": "code",
   "execution_count": 81,
   "metadata": {
    "collapsed": false
   },
   "outputs": [
    {
     "name": "stdout",
     "output_type": "stream",
     "text": [
      "[   1.70495778    6.5124523    11.266282     14.83631956   25.95812865\n",
      "   -0.43500739    1.53190288    0.24123111    9.89186094  237.86190788\n",
      "   15.34120902  154.10298929    2.38991006   27.78601381  131.1450967\n",
      "    8.0412594    67.35060833    1.9149128     2.58553642    1.42896458]\n",
      "[   0.            0.            0.            0.            0.            0.\n",
      "    0.            0.            0.          142.86190788    0.\n",
      "   59.10298929    0.            0.           36.1450967     0.            0.\n",
      "    0.            0.            0.        ]\n"
     ]
    }
   ],
   "source": [
    "S0 = 100\n",
    "r = 0.05\n",
    "sigma = 2\n",
    "a = -1.0\n",
    "b = 0.2\n",
    "lambda_ = 0.05\n",
    "T = 1.0\n",
    "M = 50\n",
    "num_iter = 100\n",
    "K = 95\n",
    "\n",
    "X = european_jump(S0, r, sigma, T, M, K, num_iter, a, b, lambda_)\n",
    "S = X.foo()\n",
    "print X.ST()[:20]\n",
    "print S[:20]\n",
    "#plt.grid(True)\n",
    "#plt.ylabel('stock price with jump')"
   ]
  },
  {
   "cell_type": "code",
   "execution_count": 66,
   "metadata": {
    "collapsed": false
   },
   "outputs": [
    {
     "data": {
      "text/plain": [
       "[4, 5]"
      ]
     },
     "execution_count": 66,
     "metadata": {},
     "output_type": "execute_result"
    }
   ],
   "source": [
    "S0 = 100\n",
    "r = 0.05\n",
    "sigma = 2\n",
    "a = -1.0\n",
    "b = 0.2\n",
    "lambda_ = 0.05\n",
    "T = 1.0\n",
    "M = 50\n",
    "num_iter = 100\n",
    "\n",
    "#X = random(S0, r, sigma, T, M, num_iter)\n",
    "#S = X.jump( a, b, lambda_)\n",
    "#S = X.GBM()\n",
    "\n",
    "\n",
    "x = np.array([[1,2,3],[4,5]])\n",
    "x[-1]"
   ]
  }
 ],
 "metadata": {
  "kernelspec": {
   "display_name": "Python 2",
   "language": "python",
   "name": "python2"
  },
  "language_info": {
   "codemirror_mode": {
    "name": "ipython",
    "version": 2
   },
   "file_extension": ".py",
   "mimetype": "text/x-python",
   "name": "python",
   "nbconvert_exporter": "python",
   "pygments_lexer": "ipython2",
   "version": "2.7.13"
  }
 },
 "nbformat": 4,
 "nbformat_minor": 1
}
