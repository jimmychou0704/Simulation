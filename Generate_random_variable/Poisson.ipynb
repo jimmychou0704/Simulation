{
 "cells": [
  {
   "cell_type": "markdown",
   "metadata": {},
   "source": [
    "Generating Poisson random variable by Inverse Transform\n"
   ]
  },
  {
   "cell_type": "code",
   "execution_count": 79,
   "metadata": {
    "collapsed": false
   },
   "outputs": [
    {
     "data": {
      "text/plain": [
       "1    3\n",
       "5    1\n",
       "4    1\n",
       "3    1\n",
       "2    1\n",
       "Name: 0, dtype: int64"
      ]
     },
     "execution_count": 79,
     "metadata": {},
     "output_type": "execute_result"
    }
   ],
   "source": [
    "import numpy as np\n",
    "import pandas as pd\n",
    "import matplotlib.pyplot as plt\n",
    "import math\n",
    "\n",
    "def poisson(x, Lambda):\n",
    "        i = 0\n",
    "        p = math.exp(-Lambda)\n",
    "        F = p\n",
    "        while x > F:\n",
    "            p = Lambda*p/(i+1)\n",
    "            F += p\n",
    "            i += 1\n",
    "        return i\n",
    "        \n",
    "\n",
    "a = []\n",
    "n = 100\n",
    "for _ in range(0, n):\n",
    "    a.append(np.random.uniform(0,1))\n",
    "\n",
    "    \n",
    "#z = np.linspace(1, n,n)\n",
    "#y = z*2\n",
    "#plt.scatter(z,a)\n",
    "#plt.show()\n",
    " \n",
    "    \n",
    "#np.mean(a)  \n",
    "#print math.exp(-1)\n",
    "#print poisson(0.37, 1)\n",
    "\n",
    "a = [1,2,3,4,5,1,1]\n",
    "df = pd.DataFrame(a)\n",
    "#print df.describe()\n",
    "\n",
    "df[0].value_counts()\n"
   ]
  },
  {
   "cell_type": "code",
   "execution_count": 34,
   "metadata": {
    "collapsed": false
   },
   "outputs": [
    {
     "name": "stdout",
     "output_type": "stream",
     "text": [
      "5\n",
      "10\n"
     ]
    }
   ],
   "source": [
    "i = 0\n",
    "while i < 10:\n",
    "    i += 5\n",
    "    print i\n",
    "    "
   ]
  },
  {
   "cell_type": "code",
   "execution_count": null,
   "metadata": {
    "collapsed": true
   },
   "outputs": [],
   "source": []
  }
 ],
 "metadata": {
  "kernelspec": {
   "display_name": "Python 2",
   "language": "python",
   "name": "python2"
  },
  "language_info": {
   "codemirror_mode": {
    "name": "ipython",
    "version": 2
   },
   "file_extension": ".py",
   "mimetype": "text/x-python",
   "name": "python",
   "nbconvert_exporter": "python",
   "pygments_lexer": "ipython2",
   "version": "2.7.11"
  }
 },
 "nbformat": 4,
 "nbformat_minor": 1
}
