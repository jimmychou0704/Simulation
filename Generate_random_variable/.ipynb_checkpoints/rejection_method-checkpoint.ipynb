{
 "cells": [
  {
   "cell_type": "markdown",
   "metadata": {},
   "source": [
    "**Rejection Method**\n",
    "Say if we want to generate random variable according to pdf $f(x)$, we first construct a \"box\" containing $f(x).$ Suppose we are able to draw random point y from the box continuously unifomrly, then the probability of $y\\le f(x)$ will follow $f(x)$.\n",
    "\n",
    "More precisely, we consider a pdf $g(x)$ that we know how to generate, and that $cg(x)\\ge f(x)$ for some positive (greater than 1?) c. \n",
    "So the box is $\\mathbb{R}\\times [0, cg(x)]$\n",
    "Then\n",
    "\n",
    "* $\\mbox{generate } v \\sim g$\n",
    "*  $\\mbox{generate } y \\sim U(0, cg(v))$\n",
    "* $ \\mbox{If } y\\le f(v), \\mbox{accept otherwise reject}.$\n",
    "\n",
    "**Standard Normal Distribution**\n",
    "In this example, we will use exponential distribution $g(x)$ to bound \n",
    "standard normal $f(x)$. However, for $0<x<\\infty$ for $g$. So we consider \n",
    "$$f(x) = \\frac{2}{\\sqrt{2\\pi}}e^{-x^2/2}.$$\n",
    "Once we get the variable, we evenly let it be positive or negative.\n",
    "\n",
    "It is easy to see that we can take $c = \\sqrt{2e/\\pi}$."
   ]
  },
  {
   "cell_type": "code",
   "execution_count": 8,
   "metadata": {
    "collapsed": true
   },
   "outputs": [],
   "source": [
    "import numpy as np\n",
    "import numpy.random as npr\n",
    "\n",
    "#exponential distribution by inverse function method\n",
    "def exp_distribution(lambda_):\n",
    "        u = npr.uniform()\n",
    "        return -1.0/lambda_*np.log(1-u)\n",
    "    \n",
    "c = np.sqrt(2*np.exp(1)/ np.pi)\n",
    "\n",
    "def std_normal():\n",
    "    return 20\n",
    "        \n",
    "    \n"
   ]
  },
  {
   "cell_type": "code",
   "execution_count": 7,
   "metadata": {
    "collapsed": false
   },
   "outputs": [
    {
     "name": "stdout",
     "output_type": "stream",
     "text": [
      "1.31548924696\n"
     ]
    }
   ],
   "source": [
    "print np.sqrt(2*np.exp(1)/ np.pi)"
   ]
  }
 ],
 "metadata": {
  "kernelspec": {
   "display_name": "Python 2",
   "language": "python",
   "name": "python2"
  },
  "language_info": {
   "codemirror_mode": {
    "name": "ipython",
    "version": 2
   },
   "file_extension": ".py",
   "mimetype": "text/x-python",
   "name": "python",
   "nbconvert_exporter": "python",
   "pygments_lexer": "ipython2",
   "version": "2.7.13"
  }
 },
 "nbformat": 4,
 "nbformat_minor": 1
}
