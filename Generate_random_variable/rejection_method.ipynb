{
 "cells": [
  {
   "cell_type": "markdown",
   "metadata": {},
   "source": [
    "**Rejection Method**\n",
    "Say if we want to generate random variable according to pdf $f(x)$, we first construct a \"box\" containing $f(x).$ Suppose we are able to draw random point y from the box continuously unifomrly, then the probability of $y\\le f(x)$ will follow $f(x)$.\n",
    "\n",
    "More precisely, we consider a pdf $g(x)$ that we know how to generate, and that $cg(x)\\ge f(x)$ for some positive (greater than 1?) c. \n",
    "So the box is $\\mathbb{R}\\times [0, cg(x)]$\n",
    "Then\n",
    "\n",
    "* $\\mbox{generate } v \\sim g$\n",
    "*  $\\mbox{generate } y \\sim U(0, cg(v))$\n",
    "* $ \\mbox{If } y\\le f(v), \\mbox{accept } v \\mbox{ otherwise reject}.$\n",
    "\n",
    "Note that the second and third steps can be replaced by\n",
    "* $\\mbox{generate } y \\sim U(0, 1)$\n",
    "* $ \\mbox{If } y\\le \\frac{f(v)}{cg(v)}, \\mbox{accept otherwise reject}.$\n",
    "\n",
    "\n",
    "**Standard Normal Distribution**\n",
    "In this example, we will use exponential distribution $g(x) = e^{-x}$ to bound \n",
    "standard normal $f(x)$. However, for $0<x<\\infty$ for $g$. So we consider \n",
    "$$f(x) = \\frac{2}{\\sqrt{2\\pi}}e^{-x^2/2}.$$\n",
    "Once we get the variable, we evenly let it be positive or negative.\n",
    "\n",
    "\n",
    "It is easy to see that we can take $c = \\sqrt{2e/\\pi}$, and \n",
    "$$\\frac{f(v)}{cg(v)} = e^{-\\frac{(v-1)^2}{2}}$$"
   ]
  },
  {
   "cell_type": "code",
   "execution_count": 118,
   "metadata": {
    "collapsed": false
   },
   "outputs": [],
   "source": [
    "import numpy as np\n",
    "import numpy.random as npr\n",
    "import matplotlib.pyplot as plt\n",
    "%matplotlib inline \n",
    "\n",
    "#exponential distribution by inverse function method\n",
    "def exp_distribution(lambda_):\n",
    "        u = npr.uniform()\n",
    "        return (-1.0/lambda_)*np.log(1-u)\n",
    "    \n",
    "\n",
    "\n",
    "\n",
    "        \n",
    "def std_normal(num_iter):\n",
    "        #generate v from exp(lambda=1)\n",
    "        v = np.array([exp_distribution(1) for i in range(num_iter)])\n",
    "        \n",
    "        #generate y from standard uniform\n",
    "        y = npr.rand(num_iter)\n",
    "        \n",
    "        #accept according to acc-reject criterion\n",
    "        accept = v[np.where(y<= np.exp(-((v-1)**2)/2))[0]]\n",
    "        \n",
    "        #let accept be positive or negtive with probability 0.5 to 0.5\n",
    "        judge = npr.rand(len(accept))\n",
    "        z = np.where(judge<0.5, -accept, accept)\n",
    "        \n",
    "        return z"
   ]
  },
  {
   "cell_type": "code",
   "execution_count": 119,
   "metadata": {
    "collapsed": false
   },
   "outputs": [
    {
     "data": {
      "text/plain": [
       "(array([  2.00000000e+00,   2.00000000e+00,   6.00000000e+00,\n",
       "          6.00000000e+00,   1.00000000e+01,   1.90000000e+01,\n",
       "          2.50000000e+01,   4.60000000e+01,   8.10000000e+01,\n",
       "          1.07000000e+02,   1.61000000e+02,   2.20000000e+02,\n",
       "          3.10000000e+02,   4.41000000e+02,   5.42000000e+02,\n",
       "          6.77000000e+02,   8.49000000e+02,   1.07000000e+03,\n",
       "          1.29400000e+03,   1.52200000e+03,   1.77500000e+03,\n",
       "          2.01800000e+03,   2.12400000e+03,   2.31200000e+03,\n",
       "          2.38300000e+03,   2.46400000e+03,   2.40000000e+03,\n",
       "          2.25000000e+03,   2.12400000e+03,   1.97100000e+03,\n",
       "          1.72200000e+03,   1.52600000e+03,   1.36400000e+03,\n",
       "          1.09500000e+03,   8.83000000e+02,   6.25000000e+02,\n",
       "          4.70000000e+02,   3.65000000e+02,   2.69000000e+02,\n",
       "          2.35000000e+02,   1.16000000e+02,   9.30000000e+01,\n",
       "          6.00000000e+01,   4.40000000e+01,   2.60000000e+01,\n",
       "          1.10000000e+01,   1.30000000e+01,   7.00000000e+00,\n",
       "          5.00000000e+00,   2.00000000e+00]),\n",
       " array([-4.01211058, -3.85417509, -3.6962396 , -3.53830411, -3.38036862,\n",
       "        -3.22243313, -3.06449764, -2.90656215, -2.74862666, -2.59069117,\n",
       "        -2.43275568, -2.27482019, -2.1168847 , -1.95894921, -1.80101372,\n",
       "        -1.64307823, -1.48514274, -1.32720725, -1.16927176, -1.01133627,\n",
       "        -0.85340078, -0.69546529, -0.5375298 , -0.37959431, -0.22165882,\n",
       "        -0.06372332,  0.09421217,  0.25214766,  0.41008315,  0.56801864,\n",
       "         0.72595413,  0.88388962,  1.04182511,  1.1997606 ,  1.35769609,\n",
       "         1.51563158,  1.67356707,  1.83150256,  1.98943805,  2.14737354,\n",
       "         2.30530903,  2.46324452,  2.62118001,  2.7791155 ,  2.93705099,\n",
       "         3.09498648,  3.25292197,  3.41085746,  3.56879295,  3.72672844,\n",
       "         3.88466393]),\n",
       " <a list of 50 Patch objects>)"
      ]
     },
     "execution_count": 119,
     "metadata": {},
     "output_type": "execute_result"
    },
    {
     "data": {
      "image/png": "[encoded data removed]",
      "text/plain": [
       "<matplotlib.figure.Figure at 0x1217327d0>"
      ]
     },
     "metadata": {},
     "output_type": "display_data"
    }
   ],
   "source": [
    "sample = std_normal(50000)\n",
    "plt.hist(sample, bins=50, normed=False)"
   ]
  },
  {
   "cell_type": "code",
   "execution_count": 105,
   "metadata": {
    "collapsed": false
   },
   "outputs": [
    {
     "name": "stdout",
     "output_type": "stream",
     "text": [
      "[ 1.  1.  1.  1.  1.]\n",
      "[ 0.28454538  0.11912835  0.1481513   0.48923076  0.96745532]\n",
      "5\n"
     ]
    }
   ],
   "source": [
    "x = np.linspace(0,5, 51)\n",
    "y = np.sin(x)\n",
    "#fig , ax = plt.subplots()\n",
    "#ax.plot(x, y)\n",
    "#ax.plot(x,y)\n",
    "#f = lambda x: x**3\n",
    "#fig, ax = plt.subplots()\n",
    "#ax.plot(x, f(x))\n",
    "a = np.ones(5)\n",
    "judge = npr.rand(5)\n",
    "b =np.where(judge <0.5, a,b)\n",
    "c = [1 for i in range(5)]\n",
    "print a\n",
    "print judge\n",
    "print len(a)\n"
   ]
  }
 ],
 "metadata": {
  "kernelspec": {
   "display_name": "Python 2",
   "language": "python",
   "name": "python2"
  },
  "language_info": {
   "codemirror_mode": {
    "name": "ipython",
    "version": 2
   },
   "file_extension": ".py",
   "mimetype": "text/x-python",
   "name": "python",
   "nbconvert_exporter": "python",
   "pygments_lexer": "ipython2",
   "version": "2.7.13"
  }
 },
 "nbformat": 4,
 "nbformat_minor": 1
}
