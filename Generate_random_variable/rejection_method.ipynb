{
 "cells": [
  {
   "cell_type": "markdown",
   "metadata": {},
   "source": [
    "**Rejection Method**\n",
    "Say if we want to generate random variable according to pdf $f(x)$, we first construct a \"box\" containing $f(x).$ Suppose we are able to draw random point y from the box continuously unifomrly, then the probability of $y\\le f(x)$ will follow $f(x)$.\n",
    "\n",
    "More precisely, we consider a pdf $g(x)$ that we know how to generate, and that $cg(x)\\ge f(x)$ for some positive (greater than 1?) c. \n",
    "So the box is $\\mathbb{R}\\times [0, cg(x)]$\n",
    "Then\n",
    "\n",
    "* $\\mbox{generate } v \\sim g$\n",
    "*  $\\mbox{generate } y \\sim U(0, cg(x))$\n",
    "* $ If y\\le f(v), \\mbox{accept otherwise reject}.$\n",
    "\n"
   ]
  }
 ],
 "metadata": {
  "kernelspec": {
   "display_name": "Python 2",
   "language": "python",
   "name": "python2"
  },
  "language_info": {
   "codemirror_mode": {
    "name": "ipython",
    "version": 2
   },
   "file_extension": ".py",
   "mimetype": "text/x-python",
   "name": "python",
   "nbconvert_exporter": "python",
   "pygments_lexer": "ipython2",
   "version": "2.7.13"
  }
 },
 "nbformat": 4,
 "nbformat_minor": 1
}
