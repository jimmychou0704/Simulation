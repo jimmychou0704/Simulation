{
 "cells": [
  {
   "cell_type": "markdown",
   "metadata": {},
   "source": [
    "**Antithetic Variates**\n",
    "Let $Y= h(u)$ be an unbiased estimator to the variable $\\theta$ we are interested in, where $u$ is standard uniform distribution.\n",
    "Suppose we generate $2n$ of data, then the Monte Carlo estimation will be\n",
    "$$\\hat{\\theta}_{2n} = \\frac{\\sum_{i = 1}^{2n} h(u_i)}{2n},$$ \n",
    "and the variance is \n",
    "$$\\frac{\\sigma^2(Y)}{2n}$$\n",
    "\n",
    "On the other hand, we can use $u_i$, $1\\le i\\le n$ and $1-u_i$ as data sets. \n",
    "Let $Y_i = h(u_i), 1 \\le i \\le n$ and $\\tilde {Y_i} = h(1-u_i)$.\n",
    "Let \n",
    "$$Z_i = \\frac{Y_i+\\tilde{Y_i}}{2}$$\n",
    "we have an unbiased esimator\n",
    "$$ \\hat{\\theta}_{2n, a} = \\frac{\\sum_{i = 1}^n Z_i }{2}$$\n",
    "with variance\n",
    "$$\\frac{\\sigma^2(Y)}{2n} + \\frac{\\sum_{i = 1}^{n}\\mbox{cov}(Y, \\tilde{Y})}{4n^2}$$\n",
    "It turns out that if $h$ is monotonic, then \n",
    "$$\\mbox{cov}(h(u_i),h(1-u_i)) < 0.$$\n",
    "\n",
    "In the following, we consider the example \n",
    "$$\\int _0^1 e^{x^2}dx$$\n"
   ]
  },
  {
   "cell_type": "code",
   "execution_count": 33,
   "metadata": {
    "collapsed": false
   },
   "outputs": [
    {
     "name": "stdout",
     "output_type": "stream",
     "text": [
      "1.46256023399 0.222983934739\n",
      "1.46039420512 0.0278204431499\n"
     ]
    }
   ],
   "source": [
    "import numpy as np\n",
    "import numpy.random as npr\n",
    "#without using antithetic variates\n",
    "\n",
    "n = 10000\n",
    "u = npr.uniform(0,1,2*n)\n",
    "array = (np.exp(u**2))\n",
    "\n",
    "print array.mean(), array.std()**2\n",
    "\n",
    "#using antithetic variates\n",
    "\n",
    "v = npr.uniform(0,1,n)\n",
    "#array = np.concatenate((np.exp(v**2), np.exp((1-v)**2)))\n",
    "#array = np.concatenate((v, 1-v))\n",
    "array = (np.exp(v**2)+np.exp((1-v)**2))/2\n",
    "print array.mean(), array.std()**2"
   ]
  }
 ],
 "metadata": {
  "kernelspec": {
   "display_name": "Python 2",
   "language": "python",
   "name": "python2"
  },
  "language_info": {
   "codemirror_mode": {
    "name": "ipython",
    "version": 2
   },
   "file_extension": ".py",
   "mimetype": "text/x-python",
   "name": "python",
   "nbconvert_exporter": "python",
   "pygments_lexer": "ipython2",
   "version": "2.7.11"
  }
 },
 "nbformat": 4,
 "nbformat_minor": 1
}
