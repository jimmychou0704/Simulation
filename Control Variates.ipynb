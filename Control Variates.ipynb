{
 "cells": [
  {
   "cell_type": "markdown",
   "metadata": {},
   "source": [
    "   \n",
    "   To improve the efficiency of Monte Carol simulation, we want to find a \n",
    "unbiased and consistent estimation with smaller variance. To this aim, we consider \n",
    "\\begin{equation}\n",
    "y_i(b) = y_i-b \\cdot (x_i-E[x])\n",
    "\\end{equation}\n",
    "It is easy to see that it is uniased and \n",
    "\\begin{equation}\n",
    "Var[y_i(b)] = \\sigma_Y^2-2b\\sigma_X\\sigma_Y\\rho_{XY}+b^2\\sigma^2_X\n",
    "\\end{equation}\n",
    "\n",
    "The value of $b$ minimizing $Var[y_i(b)]$ is\n",
    "\\begin{equation}\n",
    "b^* = \\frac{\\sigma_Y}{\\sigma_X}\\rho_{XY}\n",
    "\\end{equation}\n",
    "and the ratio\n",
    "\\begin{equation}\n",
    "\\frac{Var[Y(b)]}{Var(Y)} = 1 - \\rho ^2_{XY}\n",
    "\\end{equation}\n",
    "So to get better result we need to pick $X$ as corelated to $Y$ as possible."
   ]
  },
  {
   "cell_type": "code",
   "execution_count": 5,
   "metadata": {
    "collapsed": false
   },
   "outputs": [
    {
     "name": "stdout",
     "output_type": "stream",
     "text": [
      "6.20112476622\n"
     ]
    }
   ],
   "source": [
    "import BSM\n",
    "\n",
    "T = 1\n",
    "r = 0.01\n",
    "sigma = 0.02\n",
    "a = BSM.BSM(100, 105, T, r, sigma)\n",
    "print a.vega()"
   ]
  }
 ],
 "metadata": {
  "kernelspec": {
   "display_name": "Python 2",
   "language": "python",
   "name": "python2"
  },
  "language_info": {
   "codemirror_mode": {
    "name": "ipython",
    "version": 2
   },
   "file_extension": ".py",
   "mimetype": "text/x-python",
   "name": "python",
   "nbconvert_exporter": "python",
   "pygments_lexer": "ipython2",
   "version": "2.7.11"
  }
 },
 "nbformat": 4,
 "nbformat_minor": 1
}
