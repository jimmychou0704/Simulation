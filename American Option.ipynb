{
 "cells": [
  {
   "cell_type": "markdown",
   "metadata": {},
   "source": [
    "We first start with Cox-Ross-Rubinstein (CRR)  binomial model.\n",
    "It is a dicrete time version of BSM model. It will converge to BSM when we let $\\Delta t \\rightarrow 0.$ \n",
    "\n",
    "We assume \n",
    "$$ S_{t +\\Delta t} = S_t \\cdot m $$\n",
    "where $m$ is $u$ or $d$ such that \n",
    "$$ 0 < d < e^{r\\Delta t} < u $$\n",
    "because no arbitrage assumption.\n",
    "\n",
    "To make sure we won't have too many nodes, we assume the \n",
    "$$ u = \\frac{1}{d} $$\n",
    "so that some different paths will eventually merge.\n",
    "\n",
    "Moreover we assume \n",
    "$$ u = e^{\\sigma \\sqrt{\\Delta t}} $$\n",
    "to make sure the CRR model will converge to BSM model.\n",
    "\n",
    "Then the stock price is \n",
    "$$ S_t = e^{-r\\Delta t }(q\\cdot u\\cdot S_{t+\\Delta t} +(1-q)\\cdot d\\cdot S_{t+\\Delta t})  $$\n",
    "where \n",
    "$$ q = \\frac{e^{r\\Delta t}-d}{u-d} $$\n",
    "is the the risk neutral measure."
   ]
  }
 ],
 "metadata": {
  "kernelspec": {
   "display_name": "Python 2",
   "language": "python",
   "name": "python2"
  },
  "language_info": {
   "codemirror_mode": {
    "name": "ipython",
    "version": 2
   },
   "file_extension": ".py",
   "mimetype": "text/x-python",
   "name": "python",
   "nbconvert_exporter": "python",
   "pygments_lexer": "ipython2",
   "version": "2.7.11"
  }
 },
 "nbformat": 4,
 "nbformat_minor": 1
}
